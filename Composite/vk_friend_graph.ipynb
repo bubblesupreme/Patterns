{
 "cells": [
  {
   "cell_type": "code",
   "execution_count": 1,
   "metadata": {},
   "outputs": [],
   "source": [
    "import vk_api\n",
    "import math\n",
    "from PIL import Image \n",
    "from PIL import ImageDraw\n",
    "import sys\n",
    "import matplotlib.pyplot as plt\n",
    "import matplotlib.patches as ptch"
   ]
  },
  {
   "cell_type": "code",
   "execution_count": 461,
   "metadata": {},
   "outputs": [],
   "source": [
    "LOGIN = ''\n",
    "PASSWORD = ''\n",
    "ID = ''\n",
    "FRIEND_LIMIT = 15\n",
    "DISTANCE=10\n",
    "IMAGE_SIZE = (1600,1600)\n",
    "DEEP2 = 2\n",
    "DEEP1 = 1\n",
    "FIGURE_SIZE = 25"
   ]
  },
  {
   "cell_type": "code",
   "execution_count": 410,
   "metadata": {},
   "outputs": [],
   "source": [
    "def log_in(user):\n",
    "        vk_session = vk_api.VkApi(user.login, user.password)\n",
    "        vk_session.auth()\n",
    "        return vk_session.get_api()"
   ]
  },
  {
   "cell_type": "code",
   "execution_count": 323,
   "metadata": {},
   "outputs": [],
   "source": [
    "def calculate_xy(parent, distance, angle):\n",
    "    angle_rad = angle/360*math.pi*2\n",
    "    return (parent[0]+distance*math.cos(angle_rad),parent[1]+distance*math.sin(angle_rad))"
   ]
  },
  {
   "cell_type": "code",
   "execution_count": 285,
   "metadata": {},
   "outputs": [],
   "source": [
    "def calculate_centre(left_top, radius): \n",
    "    return (left_top[0]+radius/2, left_top[1]+radius/2)"
   ]
  },
  {
   "cell_type": "code",
   "execution_count": 293,
   "metadata": {},
   "outputs": [],
   "source": [
    "def calculate_figure_diameter(deep):\n",
    "    return FIGURE_SIZE*deep"
   ]
  },
  {
   "cell_type": "code",
   "execution_count": 294,
   "metadata": {},
   "outputs": [],
   "source": [
    "def calculate_figure_radius(deep):\n",
    "    return calculate_figure_diameter(deep)/2"
   ]
  },
  {
   "cell_type": "code",
   "execution_count": 390,
   "metadata": {},
   "outputs": [],
   "source": [
    "def calculate_distance(deep):\n",
    "    return DISTANCE*math.exp(deep*1.95)+DISTANCE"
   ]
  },
  {
   "cell_type": "code",
   "execution_count": 312,
   "metadata": {},
   "outputs": [],
   "source": [
    "def draw_parent_bridge(drawer, parent, user, deep):\n",
    "    centre_parent = calculate_centre(parent, calculate_figure_radius(deep+2))\n",
    "    centre_user = calculate_centre(user, calculate_figure_radius(deep+1))\n",
    "    drawer.line((centre_parent[0], centre_parent[1], centre_user[0], centre_user[1]), fill=128)"
   ]
  },
  {
   "cell_type": "code",
   "execution_count": 432,
   "metadata": {},
   "outputs": [],
   "source": [
    "def calculate_figure_size(xy, deep):\n",
    "    return (xy[0], xy[1], \n",
    "                       xy[0]+calculate_figure_diameter(deep+1), xy[1]+calculate_figure_diameter(deep+1))"
   ]
  },
  {
   "cell_type": "code",
   "execution_count": 422,
   "metadata": {},
   "outputs": [],
   "source": [
    "def calculate_angeles(count):\n",
    "    step = 360 / count\n",
    "    angles = [counter * step for counter in range(count)]\n",
    "    return angles"
   ]
  },
  {
   "cell_type": "code",
   "execution_count": 448,
   "metadata": {},
   "outputs": [],
   "source": [
    "COLORS = {'root': 'red', 'opened': 'green', 'closed': 'blue', 'deactivated': 'blue'}\n",
    "def calculate_figure_params(key, xy, deep):\n",
    "    color = COLORS[key]\n",
    "    return {'xy' : calculate_figure_size(xy, deep), \n",
    "                       'fill' : color,'outline' : None}"
   ]
  },
  {
   "cell_type": "code",
   "execution_count": 459,
   "metadata": {},
   "outputs": [],
   "source": [
    "def draw_information(drawer):\n",
    "    figure_params = calculate_figure_params('root', (50,50), 1)\n",
    "    drawer.ellipse(xy=figure_params['xy'],\n",
    "                   fill = figure_params['fill'], outline = figure_params['outline'])\n",
    "    drawer.text((120,50),'root user', 128)\n",
    "    figure_params = calculate_figure_params('opened', (50,120), 1)\n",
    "    drawer.ellipse(xy=figure_params['xy'],\n",
    "                   fill = figure_params['fill'], outline = figure_params['outline'])\n",
    "    drawer.text((120,120),'opened friend', 128)\n",
    "    figure_params = calculate_figure_params('closed', (50,190), 1)\n",
    "    drawer.ellipse(xy=figure_params['xy'],\n",
    "                   fill = figure_params['fill'], outline = figure_params['outline'])\n",
    "    drawer.text((120,190),'closed friend', 128)\n",
    "    figure_params = calculate_figure_params('deactivated', (50,260), 1)\n",
    "    drawer.rectangle(xy=figure_params['xy'],\n",
    "                   fill = figure_params['fill'], outline = figure_params['outline'])\n",
    "    drawer.text((120,260),'deactivated friend', 128)"
   ]
  },
  {
   "cell_type": "code",
   "execution_count": 423,
   "metadata": {},
   "outputs": [],
   "source": [
    "class UserFriends(object):\n",
    "    \n",
    "    def __init__(self, friends):\n",
    "        self.friends = friends\n",
    "\n",
    "    def get_friends_count(self, api):\n",
    "        return len(self.friends['items'])\n",
    "\n",
    "    def get_info(self, api, friend_id):\n",
    "        user = api.users.get(user_id=friend_id)\n",
    "        return user\n",
    "    \n",
    "    def draw(self, deep, key, api, drawer, parent):\n",
    "        angles = calculate_angeles(self.get_friends_count(api))\n",
    "        for friend in self.friends['items']: \n",
    "            xy = calculate_xy(parent, calculate_distance(deep+1), angles.pop(0))\n",
    "            draw_parent_bridge(drawer, parent, xy, deep)\n",
    "            user = User(user_id=friend['id'], first_name=friend['first_name'], last_name=friend['last_name'])\n",
    "            if 'deactivated' in friend.keys():\n",
    "                key = 'deactivated'\n",
    "            else:\n",
    "                if friend['can_access_closed']:\n",
    "                    key = 'access_opened'\n",
    "                else:\n",
    "                    key = 'access_closed'\n",
    "            user.draw(deep, key, api, drawer, parent, xy)"
   ]
  },
  {
   "cell_type": "code",
   "execution_count": 449,
   "metadata": {},
   "outputs": [],
   "source": [
    "class User(object):\n",
    "    \n",
    "    def __init__(self, login='', password='', user_id='', first_name='', last_name=''):\n",
    "        self.login = login\n",
    "        self.password = password\n",
    "        self.id = user_id\n",
    "        self.user_friends = None\n",
    "        self.first_name = first_name\n",
    "        self.last_name = last_name\n",
    "        self.select_draw = {'root': self.draw_root,'deactivated': self.draw_deactivated, \n",
    "                        'access_closed': self.draw_access_closed, 'access_opened':self.draw_access_opened }\n",
    "\n",
    "    def undentify_friends(self, api, count_fr=FRIEND_LIMIT):\n",
    "        self.user_friends = UserFriends(api.friends.get(user_id=self.id,order='hints', fields='nickname', count=count_fr))\n",
    "        \n",
    "    def get_friends(self, api, count=FRIEND_LIMIT):\n",
    "        if self.user_friends is None:\n",
    "            self.undentify_friends(api,count)\n",
    "        return self.user_friends\n",
    "\n",
    "    def get_friends_count(self, api):\n",
    "        if self.user_friends is None:\n",
    "            self.undentify_friends(api,count)\n",
    "        return self.user_friends.get_friends_count(api)\n",
    "\n",
    "    def get_info(self, api):\n",
    "        return api.users.get(user_id=self.id)\n",
    "    \n",
    "    def draw(self, deep, key, api, drawer, parent, xy):\n",
    "        if (key != \"access_closed\" and key != \"deactivated\"):\n",
    "            if self.user_friends is None:\n",
    "                self.undentify_friends(api)\n",
    "            if deep>0:\n",
    "                self.user_friends.draw(deep-1, 'parent', api, drawer, xy)\n",
    "                \n",
    "        self.select_draw[key](drawer, deep, xy)\n",
    "        \n",
    "    def draw_root(self, drawer, deep, xy):\n",
    "        figure_params = calculate_figure_params('root', xy, deep)\n",
    "        drawer.ellipse(xy=figure_params['xy'], \n",
    "                       fill = figure_params['fill'], outline = figure_params['outline'])\n",
    "        \n",
    "    def draw_deactivated(self, drawer, deep, xy):\n",
    "        figure_params = calculate_figure_params('deactivated', xy, deep)\n",
    "        drawer.rectangle(xy=figure_params['xy'], \n",
    "                       fill = figure_params['fill'], outline = figure_params['outline'])\n",
    "    \n",
    "    def draw_access_closed(self, drawer, deep, xy):\n",
    "        figure_params = calculate_figure_params('closed', xy, deep)\n",
    "        drawer.ellipse(xy=figure_params['xy'], \n",
    "                       fill = figure_params['fill'], outline = figure_params['outline'])\n",
    "        \n",
    "    def draw_access_opened(self, drawer, deep, xy):\n",
    "        figure_params = calculate_figure_params('opened', xy, deep)\n",
    "        drawer.ellipse(xy=figure_params['xy'], \n",
    "                       fill = figure_params['fill'], outline = figure_params['outline'])"
   ]
  },
  {
   "cell_type": "code",
   "execution_count": 460,
   "metadata": {},
   "outputs": [
    {
     "name": "stdout",
     "output_type": "stream",
     "text": [
      "Авторизация выполнена успешно!\n"
     ]
    }
   ],
   "source": [
    "def main():\n",
    "    \n",
    "    try:\n",
    "        user=User(LOGIN, PASSWORD, ID)\n",
    "        API=log_in(user)\n",
    "        print('Авторизация выполнена успешно!')\n",
    "    except Exception:\n",
    "        print('Вы ввели неверные данные!')\n",
    "        return\n",
    "    \n",
    "    image1 = Image.new('RGBA', (IMAGE_SIZE[0], IMAGE_SIZE[1]), (255,255,255))\n",
    "    drawer1 = ImageDraw.Draw(image1)\n",
    "    user.draw(DEEP1,'root', API, drawer1, (0,0), (IMAGE_SIZE[0]/2, IMAGE_SIZE[0]/2))\n",
    "    draw_information(drawer1)\n",
    "    image1.save('deep1.png')\n",
    "    \n",
    "    image2 = Image.new('RGBA', (IMAGE_SIZE[0], IMAGE_SIZE[1]), (255,255,255))\n",
    "    drawer2 = ImageDraw.Draw(image2)\n",
    "    user.draw(DEEP2,'root', API, drawer2, (0,0), (IMAGE_SIZE[0]/2, IMAGE_SIZE[0]/2))\n",
    "    draw_information(drawer2)\n",
    "    image2.save('deep2.png')   \n",
    "\n",
    "if __name__ == '__main__':\n",
    "    main()\n",
    "   \n",
    " "
   ]
  },
  {
   "cell_type": "code",
   "execution_count": null,
   "metadata": {},
   "outputs": [],
   "source": []
  },
  {
   "cell_type": "code",
   "execution_count": null,
   "metadata": {},
   "outputs": [],
   "source": []
  },
  {
   "cell_type": "code",
   "execution_count": null,
   "metadata": {},
   "outputs": [],
   "source": []
  },
  {
   "cell_type": "code",
   "execution_count": null,
   "metadata": {},
   "outputs": [],
   "source": []
  }
 ],
 "metadata": {
  "kernelspec": {
   "display_name": "Python 3",
   "language": "python",
   "name": "python3"
  },
  "language_info": {
   "codemirror_mode": {
    "name": "ipython",
    "version": 3
   },
   "file_extension": ".py",
   "mimetype": "text/x-python",
   "name": "python",
   "nbconvert_exporter": "python",
   "pygments_lexer": "ipython3",
   "version": "3.6.8"
  }
 },
 "nbformat": 4,
 "nbformat_minor": 2
}
